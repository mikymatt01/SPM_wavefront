{
 "cells": [
  {
   "cell_type": "code",
   "execution_count": null,
   "metadata": {},
   "outputs": [],
   "source": [
    "import json\n",
    "import numpy as np\n",
    "import matplotlib.pyplot as plt\n",
    "\n",
    "path = \"./weak_scalability/\"\n",
    "f = open(f'{path}runtime.json')\n",
    "data = json.load(f)\n",
    "\n",
    "length = min(len(data[\"runtime_ff\"]), len(data[\"runtime_mpi\"]))\n",
    "\n",
    "T_seq = data[\"T_seq\"]\n",
    "processors = data[\"processors\"][0:length]\n",
    "runtime_ff = data[\"runtime_ff\"][0:length]\n",
    "runtime_mpi = data[\"runtime_mpi\"][0:length]"
   ]
  },
  {
   "cell_type": "code",
   "execution_count": null,
   "metadata": {},
   "outputs": [],
   "source": [
    "def overlap_functions(\n",
    "        x_data,\n",
    "        y1_data,\n",
    "        y2_data,\n",
    "        x_label,\n",
    "        y_label,\n",
    "        f1_label,\n",
    "        f2_label,\n",
    "        title\n",
    "):\n",
    "    plt.plot(x_data, y1_data, label=f1_label, color='blue', linewidth=2)\n",
    "    plt.plot(x_data, y2_data, label=f2_label, color='red', linewidth=2)\n",
    "\n",
    "    overlap = np.abs(np.array(y1_data) - np.array(y2_data)) < 0.1\n",
    "    plt.fill_between(processors, y1_data, y2_data, where=overlap, color='gray', alpha=0.5)\n",
    "\n",
    "    plt.xlabel(x_label)\n",
    "    plt.ylabel(y_label)\n",
    "    plt.title(title)\n",
    "    plt.axhline(0, color='black',linewidth=1)\n",
    "    plt.axvline(0, color='black',linewidth=1)\n",
    "    plt.legend()\n",
    "\n",
    "    plt.grid(True)\n",
    "    plt.savefig(path + title.replace(\" \", \"_\"))\n",
    "    plt.show()\n",
    "    print(np.around(y1_data, 5))\n",
    "    print(np.around(y2_data, 5))"
   ]
  },
  {
   "cell_type": "markdown",
   "metadata": {},
   "source": [
    "### Runtime Plot"
   ]
  },
  {
   "cell_type": "code",
   "execution_count": null,
   "metadata": {},
   "outputs": [],
   "source": [
    "overlap_functions(\n",
    "    processors,\n",
    "    runtime_ff,\n",
    "    runtime_mpi,\n",
    "    \"processors\",\n",
    "    \"runtime (ms)\",\n",
    "    \"fastflow runtime\",\n",
    "    \"mpi runtime\",\n",
    "    \"Overlap of fastflow and mpi runtime\"\n",
    ")"
   ]
  },
  {
   "cell_type": "markdown",
   "metadata": {},
   "source": [
    "### Speedup plot"
   ]
  },
  {
   "cell_type": "code",
   "execution_count": null,
   "metadata": {},
   "outputs": [],
   "source": [
    "speedup_ff = []\n",
    "speedup_mpi = []\n",
    "if isinstance(T_seq, list):\n",
    "    speedup_ff = [t / r for t, r in zip(T_seq, runtime_ff)]\n",
    "    speedup_mpi = [t / r for t, r in zip(T_seq, runtime_mpi)]\n",
    "else:\n",
    "    speedup_ff = [T_seq / r for r in runtime_ff]\n",
    "    speedup_mpi = [T_seq / r for r in runtime_mpi]\n",
    "\n",
    "overlap_functions(\n",
    "    processors,\n",
    "    speedup_ff,\n",
    "    speedup_mpi,\n",
    "    \"processors\",\n",
    "    \"speedup\",\n",
    "    \"fastflow speedup\",\n",
    "    \"mpi speedup\",\n",
    "    \"Overlap of fastflow and mpi speedup\"\n",
    ")"
   ]
  },
  {
   "cell_type": "markdown",
   "metadata": {},
   "source": [
    "### Cost plot"
   ]
  },
  {
   "cell_type": "code",
   "execution_count": null,
   "metadata": {},
   "outputs": [],
   "source": [
    "cost_ff = [r * p for r, p in zip(runtime_ff, processors)]\n",
    "cost_mpi = [r * p for r, p in zip(runtime_mpi, processors)]\n",
    "\n",
    "overlap_functions(\n",
    "    processors,\n",
    "    cost_ff,\n",
    "    cost_mpi,\n",
    "    \"processors\",\n",
    "    \"cost\",\n",
    "    \"fastflow cost\",\n",
    "    \"mpi cost\",\n",
    "    \"Overlap of fastflow and mpi cost\"\n",
    ")"
   ]
  },
  {
   "cell_type": "markdown",
   "metadata": {},
   "source": [
    "### Efficency plot"
   ]
  },
  {
   "cell_type": "code",
   "execution_count": null,
   "metadata": {},
   "outputs": [],
   "source": [
    "efficiency_ff = [s / p for s, p in zip(speedup_ff, processors)]\n",
    "efficiency_mpi = [s / p for s, p in zip(speedup_mpi, processors)]\n",
    "\n",
    "overlap_functions(\n",
    "    processors,\n",
    "    efficiency_ff,\n",
    "    efficiency_mpi,\n",
    "    \"processors\",\n",
    "    \"efficiency\",\n",
    "    \"fastflow efficiency\",\n",
    "    \"mpi efficiency\",\n",
    "    \"Overlap of fastflow and mpi efficiency\"\n",
    ")\n"
   ]
  }
 ],
 "metadata": {
  "kernelspec": {
   "display_name": "ml",
   "language": "python",
   "name": "python3"
  },
  "language_info": {
   "codemirror_mode": {
    "name": "ipython",
    "version": 3
   },
   "file_extension": ".py",
   "mimetype": "text/x-python",
   "name": "python",
   "nbconvert_exporter": "python",
   "pygments_lexer": "ipython3",
   "version": "3.12.4"
  }
 },
 "nbformat": 4,
 "nbformat_minor": 2
}
